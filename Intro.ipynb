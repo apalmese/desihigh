{
  "cells": [
    {
      "cell_type": "code",
      "source": [
        "!git clone https://github.com/apalmese/desihigh.git"
      ],
      "metadata": {
        "colab": {
          "base_uri": "https://localhost:8080/"
        },
        "id": "bx9Sc0dYpp1O",
        "outputId": "bfb1092f-4e23-45ae-d23b-513bebaee737"
      },
      "execution_count": 1,
      "outputs": [
        {
          "output_type": "stream",
          "name": "stdout",
          "text": [
            "Cloning into 'desihigh'...\n",
            "remote: Enumerating objects: 3599, done.\u001b[K\n",
            "remote: Counting objects: 100% (462/462), done.\u001b[K\n",
            "remote: Compressing objects: 100% (232/232), done.\u001b[K\n",
            "remote: Total 3599 (delta 256), reused 414 (delta 228), pack-reused 3137\u001b[K\n",
            "Receiving objects: 100% (3599/3599), 312.68 MiB | 16.36 MiB/s, done.\n",
            "Resolving deltas: 100% (1870/1870), done.\n",
            "Checking out files: 100% (448/448), done.\n"
          ]
        }
      ]
    },
    {
      "cell_type": "code",
      "execution_count": 2,
      "metadata": {
        "id": "gflOgIyOppJV"
      },
      "outputs": [],
      "source": [
        "from IPython.display import IFrame\n",
        "import desihigh\n",
        "%matplotlib inline"
      ]
    },
    {
      "cell_type": "markdown",
      "metadata": {
        "id": "uhXhPiGsppJX"
      },
      "source": [
        "# *Hubble and the origins of DESI*"
      ]
    },
    {
      "cell_type": "markdown",
      "metadata": {
        "id": "_c8d6kj_ppJY"
      },
      "source": [
        "The year 1929 brought us the Oscars, the first car radio and Edwin Hubble's unexpected observation that all galaxies are moving away from us!"
      ]
    },
    {
      "cell_type": "markdown",
      "metadata": {
        "id": "6-fa26SCppJY"
      },
      "source": [
        "![title](https://github.com/apalmese/desihigh/blob/main/desihigh/images/edwin-hubble.jpg?raw=1)"
      ]
    },
    {
      "cell_type": "markdown",
      "metadata": {
        "id": "B76TuTZDppJY"
      },
      "source": [
        "Photo credit:  Margaret Bourke-White, Time & Life Pictures, Getty Images"
      ]
    },
    {
      "cell_type": "markdown",
      "metadata": {
        "id": "sqpuyES9ppJZ"
      },
      "source": [
        "Let's take a quick look at some of the galaxies he was looking at, Triangulum and the Large Magellanic Cloud."
      ]
    },
    {
      "cell_type": "markdown",
      "metadata": {
        "id": "Nnzz8AvUppJZ"
      },
      "source": [
        "![title](https://github.com/apalmese/desihigh/blob/main/desihigh/images/Triangulum.jpg?raw=1)\n",
        "![title](https://github.com/apalmese/desihigh/blob/main/desihigh/images/LMC.jpg?raw=1)"
      ]
    },
    {
      "cell_type": "markdown",
      "metadata": {
        "id": "NIc6EXQqppJa"
      },
      "source": [
        "In total, Edwin studied the distances of 24 galaxies from us, and their observed `redshifts'.  What does that mean?"
      ]
    },
    {
      "cell_type": "markdown",
      "metadata": {
        "id": "JICIeHN5ppJa"
      },
      "source": [
        "Maybe you already know that the energy levels of Hydrogen are __quantized__, with electrons habitating a series of shells with __discrete__ energies.  When an electron transitions between any two levels, light is emitted with a wavelength neatly given by the \"Rydberg\" formula: \n",
        "\n",
        "$$\n",
        "\\frac{1}{\\lambda_{\\rm vac}} = 1.096 \\times 10^{7} \\left ( \\frac{1}{n^2} - \\frac{1}{m^2} \\right ) \n",
        "$$\n",
        "\n",
        "where $n$ and $m$ (any one of $[0, 1, 2, ... \\infty]$) label the two energy levels. "
      ]
    },
    {
      "cell_type": "code",
      "execution_count": 5,
      "metadata": {
        "id": "zhRr14dJppJb"
      },
      "outputs": [],
      "source": [
        "# First, let's import some useful packages:\n",
        "import os\n",
        "import sys\n",
        "import astropy\n",
        "import pylab           as     pl\n",
        "import pandas          as     pd\n",
        "import numpy           as     np\n",
        "\n",
        "\n",
        "from   matplotlib      import pyplot as plt\n",
        "from   scipy           import stats\n",
        "from   IPython.display import Image\n",
        "from   pkg_resources   import resource_filename"
      ]
    },
    {
      "cell_type": "code",
      "execution_count": 13,
      "metadata": {
        "id": "Cq1z9vEbppJc"
      },
      "outputs": [],
      "source": [
        "sys.path.append('/content/desihigh/')\n",
        "\n",
        "from   tools           import pubplot\n",
        "\n",
        "from   tools.wave2rgb  import wavelength_to_rgb"
      ]
    },
    {
      "cell_type": "code",
      "execution_count": 14,
      "metadata": {
        "id": "KgzJD4FtppJc"
      },
      "outputs": [],
      "source": [
        "def Rydberg(n, m):\n",
        "    # Vacuum wavelengths [nanometres]\n",
        "    result = 1.096e-2 * (1. / n / n - 1. / m / m)\n",
        "    return 1. / result"
      ]
    },
    {
      "cell_type": "markdown",
      "metadata": {
        "id": "gDyb1NleppJd"
      },
      "source": [
        "Let's workout the wavelengths of light that Hydrogen can emit:"
      ]
    },
    {
      "cell_type": "code",
      "execution_count": 15,
      "metadata": {
        "colab": {
          "base_uri": "https://localhost:8080/"
        },
        "id": "bIu7aGpMppJd",
        "outputId": "d5203fe6-0411-4e14-a928-6f700f0533c3"
      },
      "outputs": [
        {
          "output_type": "stream",
          "name": "stdout",
          "text": [
            "n \t m \t Wavelength [nm]\n",
            "1 \t 2 \t 121.655\n",
            "1 \t 3 \t 102.646\n",
            "1 \t 4 \t 97.324\n",
            "1 \t 5 \t 95.043\n",
            "1 \t 6 \t 93.848\n",
            "1 \t 7 \t 93.142\n",
            "1 \t 8 \t 92.689\n",
            "1 \t 9 \t 92.381\n",
            "2 \t 3 \t 656.934\n",
            "2 \t 4 \t 486.618\n",
            "2 \t 5 \t 434.480\n",
            "2 \t 6 \t 410.584\n",
            "2 \t 7 \t 397.405\n",
            "2 \t 8 \t 389.294\n",
            "2 \t 9 \t 383.923\n",
            "3 \t 4 \t 1876.955\n",
            "3 \t 5 \t 1283.075\n",
            "3 \t 6 \t 1094.891\n",
            "3 \t 7 \t 1005.931\n",
            "3 \t 8 \t 955.541\n",
            "3 \t 9 \t 923.814\n",
            "4 \t 5 \t 4055.150\n",
            "4 \t 6 \t 2627.737\n",
            "4 \t 7 \t 2167.662\n",
            "4 \t 8 \t 1946.472\n",
            "4 \t 9 \t 1819.203\n",
            "5 \t 6 \t 7465.163\n",
            "5 \t 7 \t 4657.086\n",
            "5 \t 8 \t 3743.215\n",
            "5 \t 9 \t 3299.335\n",
            "6 \t 7 \t 12380.685\n",
            "6 \t 8 \t 7507.821\n",
            "6 \t 9 \t 5912.409\n",
            "7 \t 8 \t 19075.426\n",
            "7 \t 9 \t 11316.720\n",
            "8 \t 9 \t 27823.100\n"
          ]
        }
      ],
      "source": [
        "waves = []\n",
        "\n",
        "print('n \\t m \\t Wavelength [nm]')\n",
        "\n",
        "for n in np.arange(1, 10, 1):\n",
        "    for m in np.arange(n+1, 10, 1):\n",
        "        wave = Rydberg(n, m)        \n",
        "        waves.append(wave)\n",
        "        \n",
        "        print('{:d} \\t {:d} \\t {:.3f}'.format(n, m, wave))"
      ]
    },
    {
      "cell_type": "markdown",
      "metadata": {
        "id": "S-iRFISJppJe"
      },
      "source": [
        "Now let's plot the wavelengths and see the color of these lines.  If we were to look at a emitting Hydrogen atom, you'd see this:"
      ]
    },
    {
      "cell_type": "code",
      "execution_count": 16,
      "metadata": {
        "colab": {
          "base_uri": "https://localhost:8080/",
          "height": 339
        },
        "id": "rBHqVPjippJe",
        "outputId": "5ed2641e-29e7-4508-df3a-f6c3e96d86a3"
      },
      "outputs": [
        {
          "output_type": "execute_result",
          "data": {
            "text/plain": [
              "(380.0, 780.0)"
            ]
          },
          "metadata": {},
          "execution_count": 16
        },
        {
          "output_type": "display_data",
          "data": {
            "text/plain": [
              "<Figure size 478.207x295.548 with 1 Axes>"
            ],
            "image/png": "[encoded data removed]"
          },
          "metadata": {
            "needs_background": "light"
          }
        }
      ],
      "source": [
        "for wave in waves:\n",
        "  # color = [r, g, b]\n",
        "  color = wavelength_to_rgb(wave)       \n",
        "  pl.axvline(x=wave, c=color)\n",
        "\n",
        "pl.xlabel('Vacuum wavelength [nanometers]')\n",
        "pl.xlim(380., 780.)"
      ]
    },
    {
      "cell_type": "markdown",
      "metadata": {
        "id": "Uref2X_NppJf"
      },
      "source": [
        "If the hydrogen exists in a galaxy that is moving, we see the lines Doppler shifted. We will call this the \"redshift\" of the galaxy, often denote  as $z$ (https://en.wikipedia.org/wiki/Redshift). Let's say the galaxy is moving at 1% the speed of light (v = 0.1*c), we can calculate the redshift with the following equation:\n",
        "$$\n",
        "1 + z = \\sqrt{\\frac{1 + v/c}{1 - v/c}}\n",
        "$$"
      ]
    },
    {
      "cell_type": "code",
      "execution_count": 17,
      "metadata": {
        "id": "VBbD0LANppJf"
      },
      "outputs": [],
      "source": [
        "def redshift(v):\n",
        "    # v [speed of light].\n",
        "    result = (1. + v) / (1. - v) \n",
        "    result = np.sqrt(result) - 1.\n",
        "    \n",
        "    return  result"
      ]
    },
    {
      "cell_type": "code",
      "execution_count": 18,
      "metadata": {
        "colab": {
          "base_uri": "https://localhost:8080/",
          "height": 322
        },
        "id": "gE0qud9GppJg",
        "outputId": "90d358d1-630d-4355-9c09-005c9936bb23"
      },
      "outputs": [
        {
          "output_type": "execute_result",
          "data": {
            "text/plain": [
              "(380.0, 780.0)"
            ]
          },
          "metadata": {},
          "execution_count": 18
        },
        {
          "output_type": "display_data",
          "data": {
            "text/plain": [
              "<Figure size 478.207x295.548 with 1 Axes>"
            ],
            "image/png": "[encoded data removed]"
          },
          "metadata": {
            "needs_background": "light"
          }
        }
      ],
      "source": [
        "zz = redshift(0.01) \n",
        "\n",
        "for restwave in waves:\n",
        "  obswave = (1. + zz) * restwave     \n",
        "\n",
        "  color   = wavelength_to_rgb(restwave)       \n",
        "  pl.axvline(x=restwave, c=color, alpha=0.25)\n",
        "\n",
        "  color   = wavelength_to_rgb(obswave)       \n",
        "  pl.axvline(x=obswave, c=color)\n",
        "\n",
        "pl.xlabel('Vacuum wavelength [nanometers]')\n",
        "pl.xlim(380., 780.)"
      ]
    },
    {
      "cell_type": "markdown",
      "metadata": {
        "id": "DTwbtjYCppJh"
      },
      "source": [
        "Here you see the original line (faint) and the line shifted if the galaxy with the emitting Hydrogen is moving. https://en.wikipedia.org/wiki/Doppler_effect will tell you all the details."
      ]
    },
    {
      "cell_type": "markdown",
      "metadata": {
        "id": "pBzNTdPYppJh"
      },
      "source": [
        "Hubble knew the lines of Hydrogen, and for many other elements.  By reversing above, he was able to calculate the velocity for many galaxies.  He found out how far away there were (from how bright some special stars in the galaxy were - https://en.wikipedia.org/wiki/Cepheid_variable) and how fast they were moving (from their redshift, as above):"
      ]
    },
    {
      "cell_type": "code",
      "execution_count": 46,
      "metadata": {
        "id": "I2uOlnIqppJh"
      },
      "outputs": [],
      "source": [
        "hub = resource_filename('desihigh','desihigh/dat/hubble.dat')"
      ]
    },
    {
      "cell_type": "code",
      "execution_count": 47,
      "metadata": {
        "colab": {
          "base_uri": "https://localhost:8080/",
          "height": 793
        },
        "id": "prRBz7FhppJi",
        "outputId": "b8b69dd0-a01a-42c4-ac1f-1622616921b2"
      },
      "outputs": [
        {
          "output_type": "execute_result",
          "data": {
            "text/plain": [
              "   Galaxy name  Distance [Mpc]  Velocity [km/s]\n",
              "0        S.Mag           0.032              170\n",
              "1        L.Mag           0.034              290\n",
              "2      NGC6822           0.214             -130\n",
              "3       NGC598           0.263              -70\n",
              "4       NGC221           0.275             -185\n",
              "5       NGC224           0.275             -220\n",
              "6      NGC5457           0.450              200\n",
              "7      NGC4736           0.500              290\n",
              "8      NGC5194           0.500              270\n",
              "9      NGC4449           0.630              200\n",
              "10     NGC4214           0.800              300\n",
              "11     NGC3031           0.900              -30\n",
              "12     NGC3627           0.900              650\n",
              "13     NGC4826           0.900              150\n",
              "14     NGC5236           0.900              500\n",
              "15     NGC1068           1.000              920\n",
              "16     NGC5055           1.100              450\n",
              "17     NGC7331           1.100              500\n",
              "18     NGC4258           1.400              500\n",
              "19     NGC4151           1.700              960\n",
              "20     NGC4382           2.000              500\n",
              "21     NGC4472           2.000              850\n",
              "22     NGC4486           2.000              800\n",
              "23     NGC4649           2.000             1090"
            ],
            "text/html": [
              "\n",
              "  <div id=\"df-103c1ec4-0141-4031-b3d0-cbaac970de12\">\n",
              "    <div class=\"colab-df-container\">\n",
              "      <div>\n",
              "<style scoped>\n",
              "    .dataframe tbody tr th:only-of-type {\n",
              "        vertical-align: middle;\n",
              "    }\n",
              "\n",
              "    .dataframe tbody tr th {\n",
              "        vertical-align: top;\n",
              "    }\n",
              "\n",
              "    .dataframe thead th {\n",
              "        text-align: right;\n",
              "    }\n",
              "</style>\n",
              "<table border=\"1\" class=\"dataframe\">\n",
              "  <thead>\n",
              "    <tr style=\"text-align: right;\">\n",
              "      <th></th>\n",
              "      <th>Galaxy name</th>\n",
              "      <th>Distance [Mpc]</th>\n",
              "      <th>Velocity [km/s]</th>\n",
              "    </tr>\n",
              "  </thead>\n",
              "  <tbody>\n",
              "    <tr>\n",
              "      <th>0</th>\n",
              "      <td>S.Mag</td>\n",
              "      <td>0.032</td>\n",
              "      <td>170</td>\n",
              "    </tr>\n",
              "    <tr>\n",
              "      <th>1</th>\n",
              "      <td>L.Mag</td>\n",
              "      <td>0.034</td>\n",
              "      <td>290</td>\n",
              "    </tr>\n",
              "    <tr>\n",
              "      <th>2</th>\n",
              "      <td>NGC6822</td>\n",
              "      <td>0.214</td>\n",
              "      <td>-130</td>\n",
              "    </tr>\n",
              "    <tr>\n",
              "      <th>3</th>\n",
              "      <td>NGC598</td>\n",
              "      <td>0.263</td>\n",
              "      <td>-70</td>\n",
              "    </tr>\n",
              "    <tr>\n",
              "      <th>4</th>\n",
              "      <td>NGC221</td>\n",
              "      <td>0.275</td>\n",
              "      <td>-185</td>\n",
              "    </tr>\n",
              "    <tr>\n",
              "      <th>5</th>\n",
              "      <td>NGC224</td>\n",
              "      <td>0.275</td>\n",
              "      <td>-220</td>\n",
              "    </tr>\n",
              "    <tr>\n",
              "      <th>6</th>\n",
              "      <td>NGC5457</td>\n",
              "      <td>0.450</td>\n",
              "      <td>200</td>\n",
              "    </tr>\n",
              "    <tr>\n",
              "      <th>7</th>\n",
              "      <td>NGC4736</td>\n",
              "      <td>0.500</td>\n",
              "      <td>290</td>\n",
              "    </tr>\n",
              "    <tr>\n",
              "      <th>8</th>\n",
              "      <td>NGC5194</td>\n",
              "      <td>0.500</td>\n",
              "      <td>270</td>\n",
              "    </tr>\n",
              "    <tr>\n",
              "      <th>9</th>\n",
              "      <td>NGC4449</td>\n",
              "      <td>0.630</td>\n",
              "      <td>200</td>\n",
              "    </tr>\n",
              "    <tr>\n",
              "      <th>10</th>\n",
              "      <td>NGC4214</td>\n",
              "      <td>0.800</td>\n",
              "      <td>300</td>\n",
              "    </tr>\n",
              "    <tr>\n",
              "      <th>11</th>\n",
              "      <td>NGC3031</td>\n",
              "      <td>0.900</td>\n",
              "      <td>-30</td>\n",
              "    </tr>\n",
              "    <tr>\n",
              "      <th>12</th>\n",
              "      <td>NGC3627</td>\n",
              "      <td>0.900</td>\n",
              "      <td>650</td>\n",
              "    </tr>\n",
              "    <tr>\n",
              "      <th>13</th>\n",
              "      <td>NGC4826</td>\n",
              "      <td>0.900</td>\n",
              "      <td>150</td>\n",
              "    </tr>\n",
              "    <tr>\n",
              "      <th>14</th>\n",
              "      <td>NGC5236</td>\n",
              "      <td>0.900</td>\n",
              "      <td>500</td>\n",
              "    </tr>\n",
              "    <tr>\n",
              "      <th>15</th>\n",
              "      <td>NGC1068</td>\n",
              "      <td>1.000</td>\n",
              "      <td>920</td>\n",
              "    </tr>\n",
              "    <tr>\n",
              "      <th>16</th>\n",
              "      <td>NGC5055</td>\n",
              "      <td>1.100</td>\n",
              "      <td>450</td>\n",
              "    </tr>\n",
              "    <tr>\n",
              "      <th>17</th>\n",
              "      <td>NGC7331</td>\n",
              "      <td>1.100</td>\n",
              "      <td>500</td>\n",
              "    </tr>\n",
              "    <tr>\n",
              "      <th>18</th>\n",
              "      <td>NGC4258</td>\n",
              "      <td>1.400</td>\n",
              "      <td>500</td>\n",
              "    </tr>\n",
              "    <tr>\n",
              "      <th>19</th>\n",
              "      <td>NGC4151</td>\n",
              "      <td>1.700</td>\n",
              "      <td>960</td>\n",
              "    </tr>\n",
              "    <tr>\n",
              "      <th>20</th>\n",
              "      <td>NGC4382</td>\n",
              "      <td>2.000</td>\n",
              "      <td>500</td>\n",
              "    </tr>\n",
              "    <tr>\n",
              "      <th>21</th>\n",
              "      <td>NGC4472</td>\n",
              "      <td>2.000</td>\n",
              "      <td>850</td>\n",
              "    </tr>\n",
              "    <tr>\n",
              "      <th>22</th>\n",
              "      <td>NGC4486</td>\n",
              "      <td>2.000</td>\n",
              "      <td>800</td>\n",
              "    </tr>\n",
              "    <tr>\n",
              "      <th>23</th>\n",
              "      <td>NGC4649</td>\n",
              "      <td>2.000</td>\n",
              "      <td>1090</td>\n",
              "    </tr>\n",
              "  </tbody>\n",
              "</table>\n",
              "</div>\n",
              "      <button class=\"colab-df-convert\" onclick=\"convertToInteractive('df-103c1ec4-0141-4031-b3d0-cbaac970de12')\"\n",
              "              title=\"Convert this dataframe to an interactive table.\"\n",
              "              style=\"display:none;\">\n",
              "        \n",
              "  <svg xmlns=\"http://www.w3.org/2000/svg\" height=\"24px\"viewBox=\"0 0 24 24\"\n",
              "       width=\"24px\">\n",
              "    <path d=\"M0 0h24v24H0V0z\" fill=\"none\"/>\n",
              "    <path d=\"M18.56 5.44l.94 2.06.94-2.06 2.06-.94-2.06-.94-.94-2.06-.94 2.06-2.06.94zm-11 1L8.5 8.5l.94-2.06 2.06-.94-2.06-.94L8.5 2.5l-.94 2.06-2.06.94zm10 10l.94 2.06.94-2.06 2.06-.94-2.06-.94-.94-2.06-.94 2.06-2.06.94z\"/><path d=\"M17.41 7.96l-1.37-1.37c-.4-.4-.92-.59-1.43-.59-.52 0-1.04.2-1.43.59L10.3 9.45l-7.72 7.72c-.78.78-.78 2.05 0 2.83L4 21.41c.39.39.9.59 1.41.59.51 0 1.02-.2 1.41-.59l7.78-7.78 2.81-2.81c.8-.78.8-2.07 0-2.86zM5.41 20L4 18.59l7.72-7.72 1.47 1.35L5.41 20z\"/>\n",
              "  </svg>\n",
              "      </button>\n",
              "      \n",
              "  <style>\n",
              "    .colab-df-container {\n",
              "      display:flex;\n",
              "      flex-wrap:wrap;\n",
              "      gap: 12px;\n",
              "    }\n",
              "\n",
              "    .colab-df-convert {\n",
              "      background-color: #E8F0FE;\n",
              "      border: none;\n",
              "      border-radius: 50%;\n",
              "      cursor: pointer;\n",
              "      display: none;\n",
              "      fill: #1967D2;\n",
              "      height: 32px;\n",
              "      padding: 0 0 0 0;\n",
              "      width: 32px;\n",
              "    }\n",
              "\n",
              "    .colab-df-convert:hover {\n",
              "      background-color: #E2EBFA;\n",
              "      box-shadow: 0px 1px 2px rgba(60, 64, 67, 0.3), 0px 1px 3px 1px rgba(60, 64, 67, 0.15);\n",
              "      fill: #174EA6;\n",
              "    }\n",
              "\n",
              "    [theme=dark] .colab-df-convert {\n",
              "      background-color: #3B4455;\n",
              "      fill: #D2E3FC;\n",
              "    }\n",
              "\n",
              "    [theme=dark] .colab-df-convert:hover {\n",
              "      background-color: #434B5C;\n",
              "      box-shadow: 0px 1px 3px 1px rgba(0, 0, 0, 0.15);\n",
              "      filter: drop-shadow(0px 1px 2px rgba(0, 0, 0, 0.3));\n",
              "      fill: #FFFFFF;\n",
              "    }\n",
              "  </style>\n",
              "\n",
              "      <script>\n",
              "        const buttonEl =\n",
              "          document.querySelector('#df-103c1ec4-0141-4031-b3d0-cbaac970de12 button.colab-df-convert');\n",
              "        buttonEl.style.display =\n",
              "          google.colab.kernel.accessAllowed ? 'block' : 'none';\n",
              "\n",
              "        async function convertToInteractive(key) {\n",
              "          const element = document.querySelector('#df-103c1ec4-0141-4031-b3d0-cbaac970de12');\n",
              "          const dataTable =\n",
              "            await google.colab.kernel.invokeFunction('convertToInteractive',\n",
              "                                                     [key], {});\n",
              "          if (!dataTable) return;\n",
              "\n",
              "          const docLinkHtml = 'Like what you see? Visit the ' +\n",
              "            '<a target=\"_blank\" href=https://colab.research.google.com/notebooks/data_table.ipynb>data table notebook</a>'\n",
              "            + ' to learn more about interactive tables.';\n",
              "          element.innerHTML = '';\n",
              "          dataTable['output_type'] = 'display_data';\n",
              "          await google.colab.output.renderOutput(dataTable, element);\n",
              "          const docLink = document.createElement('div');\n",
              "          docLink.innerHTML = docLinkHtml;\n",
              "          element.appendChild(docLink);\n",
              "        }\n",
              "      </script>\n",
              "    </div>\n",
              "  </div>\n",
              "  "
            ]
          },
          "metadata": {},
          "execution_count": 47
        }
      ],
      "source": [
        "dat = pd.read_csv(hub, sep='\\s+', comment='#', names=['Galaxy name', 'Distance [Mpc]', 'Velocity [km/s]'])\n",
        "dat"
      ]
    },
    {
      "cell_type": "markdown",
      "metadata": {
        "id": "mmvM5u9qppJi"
      },
      "source": [
        "Let's plot them."
      ]
    },
    {
      "cell_type": "code",
      "execution_count": 48,
      "metadata": {
        "id": "-5T_kyZkppJj"
      },
      "outputs": [],
      "source": [
        "fig = plt.figure(figsize=(10, 7.5))\n",
        "ax  = fig.add_subplot(1, 1, 1)\n",
        "plt.close()"
      ]
    },
    {
      "cell_type": "code",
      "execution_count": 49,
      "metadata": {
        "id": "4S5yZyCtppJj"
      },
      "outputs": [],
      "source": [
        "label_style = {'fontsize': 16} "
      ]
    },
    {
      "cell_type": "code",
      "execution_count": 50,
      "metadata": {
        "colab": {
          "base_uri": "https://localhost:8080/",
          "height": 34
        },
        "id": "zQ7Eek2RppJj",
        "outputId": "59ed05ec-23cb-463f-a177-c9ed96e13ca3"
      },
      "outputs": [
        {
          "output_type": "display_data",
          "data": {
            "text/plain": [
              "<Figure size 478.207x295.548 with 0 Axes>"
            ]
          },
          "metadata": {}
        }
      ],
      "source": [
        "ax.plot(dat['Distance [Mpc]'], dat['Velocity [km/s]'], '-', c='k', marker='*', lw=0)\n",
        "\n",
        "ax.set_xlabel('Distance from us [Megaparsecs]', **label_style)\n",
        "ax.set_ylabel('Recession velocity [km/s]', **label_style)\n",
        "\n",
        "plt.tight_layout()"
      ]
    },
    {
      "cell_type": "code",
      "execution_count": 51,
      "metadata": {
        "colab": {
          "base_uri": "https://localhost:8080/",
          "height": 497
        },
        "id": "QQcujE5zppJk",
        "outputId": "a3584fdb-1ad8-42f6-c4d3-9bf06a318518"
      },
      "outputs": [
        {
          "output_type": "stream",
          "name": "stderr",
          "text": [
            "WARNING:matplotlib.font_manager:findfont: Font family ['Arial'] not found. Falling back to DejaVu Sans.\n"
          ]
        },
        {
          "output_type": "execute_result",
          "data": {
            "text/plain": [
              "<Figure size 720x540 with 1 Axes>"
            ],
            "image/png": "[encoded data removed]"
          },
          "metadata": {},
          "execution_count": 51
        }
      ],
      "source": [
        "fig"
      ]
    },
    {
      "cell_type": "markdown",
      "metadata": {
        "id": "OwgSLat6ppJk"
      },
      "source": [
        "Edwin saw a clear trend, but the measurements seemed pretty noisy.  Let's figure out our best guess at the true relationship between the two.  We'll look at a linear relationship (regression) using the scipy stats package:"
      ]
    },
    {
      "cell_type": "code",
      "execution_count": 27,
      "metadata": {
        "id": "NkDsrT-bppJk"
      },
      "outputs": [],
      "source": [
        "slope, intercept, r_value, p_value, std_err = stats.linregress(dat['Distance [Mpc]'],dat['Velocity [km/s]'])"
      ]
    },
    {
      "cell_type": "code",
      "execution_count": 28,
      "metadata": {
        "colab": {
          "base_uri": "https://localhost:8080/"
        },
        "id": "uwhafj_vppJl",
        "outputId": "5763de9a-3c11-4ff7-ddba-3af6efcbadc8"
      },
      "outputs": [
        {
          "output_type": "stream",
          "name": "stdout",
          "text": [
            "The gradient to this trend is known as the Hubble constant:  454.158 [km/s/Mpc]\n"
          ]
        }
      ],
      "source": [
        "print('The gradient to this trend is known as the Hubble constant:  {:.3f} [km/s/Mpc]'.format(slope))"
      ]
    },
    {
      "cell_type": "markdown",
      "metadata": {
        "id": "Z9Uaq44IppJl"
      },
      "source": [
        "Let's see what that looks like. "
      ]
    },
    {
      "cell_type": "code",
      "execution_count": 29,
      "metadata": {
        "colab": {
          "base_uri": "https://localhost:8080/"
        },
        "id": "IUh9vknUppJl",
        "outputId": "5600fd5e-ff22-491e-8cf7-48d5913fc13c"
      },
      "outputs": [
        {
          "output_type": "execute_result",
          "data": {
            "text/plain": [
              "(0.0, 2.5)"
            ]
          },
          "metadata": {},
          "execution_count": 29
        }
      ],
      "source": [
        "distances  = np.linspace(-0.5, 2.5, 10)\n",
        "velocities = slope * distances\n",
        "\n",
        "ax.plot(distances, velocities, lw=0.25, c='k')\n",
        "ax.set_xlim(0.0, 2.5)"
      ]
    },
    {
      "cell_type": "code",
      "execution_count": 30,
      "metadata": {
        "colab": {
          "base_uri": "https://localhost:8080/",
          "height": 485
        },
        "id": "IzecLpHVppJl",
        "outputId": "7019cc53-1298-46b7-d51c-0986f4f96ab5"
      },
      "outputs": [
        {
          "output_type": "execute_result",
          "data": {
            "text/plain": [
              "<Figure size 720x540 with 1 Axes>"
            ],
            "image/png": "[encoded data removed]"
          },
          "metadata": {},
          "execution_count": 30
        }
      ],
      "source": [
        "fig"
      ]
    },
    {
      "cell_type": "markdown",
      "metadata": {
        "id": "RUZ5-z9NppJm"
      },
      "source": [
        "Seems a pretty good fit! However, remember that today we know that this value is not correct."
      ]
    },
    {
      "cell_type": "markdown",
      "metadata": {
        "id": "NrFrr840ppJm"
      },
      "source": [
        "Now it's your turn, can you figure out a good estimate of the error on this measurement of the Hubble costant.   "
      ]
    },
    {
      "cell_type": "markdown",
      "metadata": {
        "id": "jyIDP-DfppJm"
      },
      "source": [
        "So in conclusion, every galaxy is likely to be moving away from us!  We find this to be true of all galaxies - we are not at center or special in any way.  Every galaxy is moving away from every other.  The fact that the Universe was expanding came as a shock to many in 1929, but an even greater surprise was in store.    "
      ]
    },
    {
      "cell_type": "markdown",
      "metadata": {
        "id": "i042zeBmppJm"
      },
      "source": [
        "# *Dark Energy*"
      ]
    },
    {
      "cell_type": "markdown",
      "metadata": {
        "id": "qst1KO7kppJm"
      },
      "source": [
        "In 1998, the world would change forever.  Larry Page and Sergey Brin founded Google, the American Unity node and Russian Zarya module would be brought together to form the [International Space Station](https://en.wikipedia.org/wiki/International_Space_Station), and Lawrence Berkeley Lab's\n",
        "very own Saul Perlmutter, Brian Schmidt and Adam Reiss irrefutably confirmed the existence of _Dark Energy_. Here's Saul impressing some young Berkeley researchers with these results at the time:"
      ]
    },
    {
      "cell_type": "markdown",
      "metadata": {
        "id": "q2SJVFDDppJn"
      },
      "source": [
        "![title](https://github.com/apalmese/desihigh/blob/main/desihigh/images/perlmutter.png?raw=1)"
      ]
    },
    {
      "cell_type": "markdown",
      "metadata": {
        "id": "UfYSfxH3ppJn"
      },
      "source": [
        "So what was everyone looking at?  Let's breakdown the data."
      ]
    },
    {
      "cell_type": "markdown",
      "metadata": {
        "id": "d_wWjv1tppJn"
      },
      "source": [
        "Saul and his team measured the redshift ($z$) and the effective magnitude for several Type Ia Supernovae (https://en.wikipedia.org/wiki/Type_Ia_supernova)"
      ]
    },
    {
      "cell_type": "code",
      "execution_count": 33,
      "metadata": {
        "id": "1kEuzpMWppJn"
      },
      "outputs": [],
      "source": [
        "perl    = resource_filename('desihigh', 'desihigh/dat/perlmutter.txt')"
      ]
    },
    {
      "cell_type": "code",
      "execution_count": 34,
      "metadata": {
        "colab": {
          "base_uri": "https://localhost:8080/",
          "height": 359
        },
        "id": "a4ioIFSIppJn",
        "outputId": "4909b154-cd98-40e7-e64f-9a4a2a72a41c"
      },
      "outputs": [
        {
          "output_type": "execute_result",
          "data": {
            "text/plain": [
              "       z  Effective magnitude\n",
              "0  0.458                23.11\n",
              "1  0.354                22.38\n",
              "2  0.425                22.13\n",
              "3  0.374                21.72\n",
              "4  0.420                22.55\n",
              "5  0.372                22.26\n",
              "6  0.378                22.58\n",
              "7  0.453                23.17\n",
              "8  0.465                23.33\n",
              "9  0.498                23.71"
            ],
            "text/html": [
              "\n",
              "  <div id=\"df-7f3931b1-0851-463f-b2b0-5bcf5b8cba6f\">\n",
              "    <div class=\"colab-df-container\">\n",
              "      <div>\n",
              "<style scoped>\n",
              "    .dataframe tbody tr th:only-of-type {\n",
              "        vertical-align: middle;\n",
              "    }\n",
              "\n",
              "    .dataframe tbody tr th {\n",
              "        vertical-align: top;\n",
              "    }\n",
              "\n",
              "    .dataframe thead th {\n",
              "        text-align: right;\n",
              "    }\n",
              "</style>\n",
              "<table border=\"1\" class=\"dataframe\">\n",
              "  <thead>\n",
              "    <tr style=\"text-align: right;\">\n",
              "      <th></th>\n",
              "      <th>z</th>\n",
              "      <th>Effective magnitude</th>\n",
              "    </tr>\n",
              "  </thead>\n",
              "  <tbody>\n",
              "    <tr>\n",
              "      <th>0</th>\n",
              "      <td>0.458</td>\n",
              "      <td>23.11</td>\n",
              "    </tr>\n",
              "    <tr>\n",
              "      <th>1</th>\n",
              "      <td>0.354</td>\n",
              "      <td>22.38</td>\n",
              "    </tr>\n",
              "    <tr>\n",
              "      <th>2</th>\n",
              "      <td>0.425</td>\n",
              "      <td>22.13</td>\n",
              "    </tr>\n",
              "    <tr>\n",
              "      <th>3</th>\n",
              "      <td>0.374</td>\n",
              "      <td>21.72</td>\n",
              "    </tr>\n",
              "    <tr>\n",
              "      <th>4</th>\n",
              "      <td>0.420</td>\n",
              "      <td>22.55</td>\n",
              "    </tr>\n",
              "    <tr>\n",
              "      <th>5</th>\n",
              "      <td>0.372</td>\n",
              "      <td>22.26</td>\n",
              "    </tr>\n",
              "    <tr>\n",
              "      <th>6</th>\n",
              "      <td>0.378</td>\n",
              "      <td>22.58</td>\n",
              "    </tr>\n",
              "    <tr>\n",
              "      <th>7</th>\n",
              "      <td>0.453</td>\n",
              "      <td>23.17</td>\n",
              "    </tr>\n",
              "    <tr>\n",
              "      <th>8</th>\n",
              "      <td>0.465</td>\n",
              "      <td>23.33</td>\n",
              "    </tr>\n",
              "    <tr>\n",
              "      <th>9</th>\n",
              "      <td>0.498</td>\n",
              "      <td>23.71</td>\n",
              "    </tr>\n",
              "  </tbody>\n",
              "</table>\n",
              "</div>\n",
              "      <button class=\"colab-df-convert\" onclick=\"convertToInteractive('df-7f3931b1-0851-463f-b2b0-5bcf5b8cba6f')\"\n",
              "              title=\"Convert this dataframe to an interactive table.\"\n",
              "              style=\"display:none;\">\n",
              "        \n",
              "  <svg xmlns=\"http://www.w3.org/2000/svg\" height=\"24px\"viewBox=\"0 0 24 24\"\n",
              "       width=\"24px\">\n",
              "    <path d=\"M0 0h24v24H0V0z\" fill=\"none\"/>\n",
              "    <path d=\"M18.56 5.44l.94 2.06.94-2.06 2.06-.94-2.06-.94-.94-2.06-.94 2.06-2.06.94zm-11 1L8.5 8.5l.94-2.06 2.06-.94-2.06-.94L8.5 2.5l-.94 2.06-2.06.94zm10 10l.94 2.06.94-2.06 2.06-.94-2.06-.94-.94-2.06-.94 2.06-2.06.94z\"/><path d=\"M17.41 7.96l-1.37-1.37c-.4-.4-.92-.59-1.43-.59-.52 0-1.04.2-1.43.59L10.3 9.45l-7.72 7.72c-.78.78-.78 2.05 0 2.83L4 21.41c.39.39.9.59 1.41.59.51 0 1.02-.2 1.41-.59l7.78-7.78 2.81-2.81c.8-.78.8-2.07 0-2.86zM5.41 20L4 18.59l7.72-7.72 1.47 1.35L5.41 20z\"/>\n",
              "  </svg>\n",
              "      </button>\n",
              "      \n",
              "  <style>\n",
              "    .colab-df-container {\n",
              "      display:flex;\n",
              "      flex-wrap:wrap;\n",
              "      gap: 12px;\n",
              "    }\n",
              "\n",
              "    .colab-df-convert {\n",
              "      background-color: #E8F0FE;\n",
              "      border: none;\n",
              "      border-radius: 50%;\n",
              "      cursor: pointer;\n",
              "      display: none;\n",
              "      fill: #1967D2;\n",
              "      height: 32px;\n",
              "      padding: 0 0 0 0;\n",
              "      width: 32px;\n",
              "    }\n",
              "\n",
              "    .colab-df-convert:hover {\n",
              "      background-color: #E2EBFA;\n",
              "      box-shadow: 0px 1px 2px rgba(60, 64, 67, 0.3), 0px 1px 3px 1px rgba(60, 64, 67, 0.15);\n",
              "      fill: #174EA6;\n",
              "    }\n",
              "\n",
              "    [theme=dark] .colab-df-convert {\n",
              "      background-color: #3B4455;\n",
              "      fill: #D2E3FC;\n",
              "    }\n",
              "\n",
              "    [theme=dark] .colab-df-convert:hover {\n",
              "      background-color: #434B5C;\n",
              "      box-shadow: 0px 1px 3px 1px rgba(0, 0, 0, 0.15);\n",
              "      filter: drop-shadow(0px 1px 2px rgba(0, 0, 0, 0.3));\n",
              "      fill: #FFFFFF;\n",
              "    }\n",
              "  </style>\n",
              "\n",
              "      <script>\n",
              "        const buttonEl =\n",
              "          document.querySelector('#df-7f3931b1-0851-463f-b2b0-5bcf5b8cba6f button.colab-df-convert');\n",
              "        buttonEl.style.display =\n",
              "          google.colab.kernel.accessAllowed ? 'block' : 'none';\n",
              "\n",
              "        async function convertToInteractive(key) {\n",
              "          const element = document.querySelector('#df-7f3931b1-0851-463f-b2b0-5bcf5b8cba6f');\n",
              "          const dataTable =\n",
              "            await google.colab.kernel.invokeFunction('convertToInteractive',\n",
              "                                                     [key], {});\n",
              "          if (!dataTable) return;\n",
              "\n",
              "          const docLinkHtml = 'Like what you see? Visit the ' +\n",
              "            '<a target=\"_blank\" href=https://colab.research.google.com/notebooks/data_table.ipynb>data table notebook</a>'\n",
              "            + ' to learn more about interactive tables.';\n",
              "          element.innerHTML = '';\n",
              "          dataTable['output_type'] = 'display_data';\n",
              "          await google.colab.output.renderOutput(dataTable, element);\n",
              "          const docLink = document.createElement('div');\n",
              "          docLink.innerHTML = docLinkHtml;\n",
              "          element.appendChild(docLink);\n",
              "        }\n",
              "      </script>\n",
              "    </div>\n",
              "  </div>\n",
              "  "
            ]
          },
          "metadata": {},
          "execution_count": 34
        }
      ],
      "source": [
        "dat     = pd.read_csv(perl, names=['z', 'Effective magnitude'], comment='#', sep='\\s+')\n",
        "toprint = dat[:10]\n",
        "toprint"
      ]
    },
    {
      "cell_type": "markdown",
      "metadata": {
        "id": "2hyO5LjhppJo"
      },
      "source": [
        "A plot would show this a lot more clearly:"
      ]
    },
    {
      "cell_type": "code",
      "execution_count": 35,
      "metadata": {
        "colab": {
          "base_uri": "https://localhost:8080/",
          "height": 316
        },
        "id": "nKUPVa2WppJo",
        "outputId": "ae893f02-cb42-49ba-82c1-1db1c37acd00"
      },
      "outputs": [
        {
          "output_type": "execute_result",
          "data": {
            "text/plain": [
              "Text(0, 0.5, 'Effective magnitude')"
            ]
          },
          "metadata": {},
          "execution_count": 35
        },
        {
          "output_type": "display_data",
          "data": {
            "text/plain": [
              "<Figure size 478.207x295.548 with 1 Axes>"
            ],
            "image/png": "[encoded data removed]"
          },
          "metadata": {
            "needs_background": "light"
          }
        }
      ],
      "source": [
        "pl.plot(dat['z'], dat['Effective magnitude'], marker='.', lw=0.0)\n",
        "\n",
        "pl.xlabel('z')\n",
        "pl.ylabel('Effective magnitude')"
      ]
    },
    {
      "cell_type": "markdown",
      "metadata": {
        "id": "CeKkD3qyppJo"
      },
      "source": [
        "Saul has good reason to believe (really, he had to tweak them a bit first) that every [type Ia supernovae](https://en.wikipedia.org/wiki/Type_Ia_supernova) shown here was equally bright intrinsically, but those at high redshift appeared relatively faint compared to those at low redshift, as they were simply further away.  This explains the trend shown, given that 'effective magnitude' is the awkward way in which astronomers typically express how bright something appears."
      ]
    },
    {
      "cell_type": "markdown",
      "metadata": {
        "id": "tBS0-jdnppJo"
      },
      "source": [
        "The useful thing about this measurement is that how far away a supernovae or galaxy is for a given redshift depends on a few parameters, one of which is how much Dark Energy there might be in the Universe.  Almost everyone expected this data to prove there was _no_ _Dark Energy_ when Saul made it, but a few guessed otherwise.  \n",
        "\n",
        "When Hubble discovered the expansion, a natural consequence was that the amount of (rest mass) energy contained within a cubic meter would dilute with time.  Dark Energy would be special, as the amount of energy per cubic meter would instead be constant with time.         "
      ]
    },
    {
      "cell_type": "markdown",
      "metadata": {
        "id": "L2u3fYp1ppJp"
      },
      "source": [
        "So let's use Saul's data to figure out how much Dark Energy is in the Universe.  First, we need a model for the (luminosity) distance of a supernovae at a given redshift, given some amount of Dark Energy.  We use $\\Omega_\\Lambda$ to denote the _fraction_ of all matter that behaves like Dark Energy. "
      ]
    },
    {
      "cell_type": "code",
      "execution_count": 36,
      "metadata": {
        "id": "NcVCJMYtppJp"
      },
      "outputs": [],
      "source": [
        "from astropy.cosmology import FlatLambdaCDM\n",
        "\n",
        "def lumdist(z, olambda):\n",
        "  cosmo = FlatLambdaCDM(H0=70, Om0=1. - olambda, Tcmb0=2.725)\n",
        "    \n",
        "  return  cosmo.luminosity_distance(z)   "
      ]
    },
    {
      "cell_type": "markdown",
      "metadata": {
        "id": "Cb_yb4q8ppJp"
      },
      "source": [
        "We then need to convert this distance into how astronomers measure brightness:"
      ]
    },
    {
      "cell_type": "code",
      "execution_count": 37,
      "metadata": {
        "id": "ZQWss2FgppJp"
      },
      "outputs": [],
      "source": [
        "def effmag(z, olambda, MB):\n",
        "  DL = lumdist(z, olambda)   \n",
        "\n",
        "  return MB + 5. * np.log10(DL.value)    "
      ]
    },
    {
      "cell_type": "code",
      "execution_count": 38,
      "metadata": {
        "colab": {
          "base_uri": "https://localhost:8080/",
          "height": 333
        },
        "id": "_OCASnI1ppJq",
        "outputId": "1525d321-2809-4f4a-fd0b-bf622f42ae6b"
      },
      "outputs": [
        {
          "output_type": "execute_result",
          "data": {
            "text/plain": [
              "<matplotlib.legend.Legend at 0x7fa53a01dc90>"
            ]
          },
          "metadata": {},
          "execution_count": 38
        },
        {
          "output_type": "stream",
          "name": "stderr",
          "text": [
            "WARNING:matplotlib.font_manager:findfont: Font family ['serif'] not found. Falling back to DejaVu Sans.\n"
          ]
        },
        {
          "output_type": "display_data",
          "data": {
            "text/plain": [
              "<Figure size 478.207x295.548 with 1 Axes>"
            ],
            "image/png": "[encoded data removed]"
          },
          "metadata": {
            "needs_background": "light"
          }
        }
      ],
      "source": [
        "zs = np.arange(0.01, 0.85, 0.01)\n",
        "\n",
        "pl.plot(dat['z'], dat['Effective magnitude'], marker='.', lw=0.0)\n",
        "\n",
        "pl.plot(zs, effmag(zs, 0.0, 6.), c='k', label='No Dark Energy', alpha=0.5)\n",
        "pl.plot(zs, effmag(zs, 0.5, 6.), c='k', label='Dark Energy!')\n",
        "\n",
        "pl.xlabel('z')\n",
        "pl.ylabel('Effective magnitude')\n",
        "\n",
        "pl.legend(loc=4, frameon=False)"
      ]
    },
    {
      "cell_type": "markdown",
      "metadata": {
        "id": "3KeicYX8ppJq"
      },
      "source": [
        "Even by eye, the data looks to prefer some Dark Energy.  But there's not a huge amount in it.  Let's figure out what exactly the data prefers.  To do this, we'll assume that minimising the distance between each point and the line is the best measure of how well the theory fits the data (see https://en.wikipedia.org/wiki/Least_squares).  Together with the fraction of Dark Energy, we also don't know how bright every supernovae is intrinsically so we'll fit for that simultaneously.   "
      ]
    },
    {
      "cell_type": "code",
      "execution_count": 39,
      "metadata": {
        "id": "ojjuhGDMppJq"
      },
      "outputs": [],
      "source": [
        "from scipy.optimize import minimize"
      ]
    },
    {
      "cell_type": "code",
      "execution_count": 40,
      "metadata": {
        "id": "tYnqluJoppJq"
      },
      "outputs": [],
      "source": [
        "def chi2(x):\n",
        "     olambda = x[0]\n",
        "     MB      = x[1] \n",
        "    \n",
        "     model   = effmag(dat['z'], olambda, MB) \n",
        "     \n",
        "     return  np.sum((dat['Effective magnitude'] - model)**2.) "
      ]
    },
    {
      "cell_type": "code",
      "execution_count": 41,
      "metadata": {
        "colab": {
          "base_uri": "https://localhost:8080/"
        },
        "id": "u6tc8dePppJr",
        "outputId": "965db2f3-5fb3-4c98-e3db-fd43fc0de9f9"
      },
      "outputs": [
        {
          "output_type": "stream",
          "name": "stdout",
          "text": [
            "Optimization terminated successfully.\n",
            "         Current function value: 6.018565\n",
            "         Iterations: 10\n",
            "         Function evaluations: 39\n",
            "         Gradient evaluations: 13\n"
          ]
        }
      ],
      "source": [
        "res = minimize(chi2, x0=[0.5, 5.0], options={'disp': True})"
      ]
    },
    {
      "cell_type": "code",
      "execution_count": 42,
      "metadata": {
        "colab": {
          "base_uri": "https://localhost:8080/"
        },
        "id": "lBClKhp0ppJr",
        "outputId": "b2754d47-cfff-480e-be7a-edf322c7ec33"
      },
      "outputs": [
        {
          "output_type": "execute_result",
          "data": {
            "text/plain": [
              "array([0.75146015, 5.82802903])"
            ]
          },
          "metadata": {},
          "execution_count": 42
        }
      ],
      "source": [
        "res.x"
      ]
    },
    {
      "cell_type": "code",
      "execution_count": 43,
      "metadata": {
        "colab": {
          "base_uri": "https://localhost:8080/",
          "height": 316
        },
        "id": "rx_VmQDtppJr",
        "outputId": "1894d8be-a894-4f96-9990-0febddb6b9a5"
      },
      "outputs": [
        {
          "output_type": "execute_result",
          "data": {
            "text/plain": [
              "<matplotlib.legend.Legend at 0x7fa53a308710>"
            ]
          },
          "metadata": {},
          "execution_count": 43
        },
        {
          "output_type": "display_data",
          "data": {
            "text/plain": [
              "<Figure size 478.207x295.548 with 1 Axes>"
            ],
            "image/png": "[encoded data removed]"
          },
          "metadata": {
            "needs_background": "light"
          }
        }
      ],
      "source": [
        "zs = np.arange(0.01, 0.85, 0.01)\n",
        "\n",
        "pl.plot(dat['z'], dat['Effective magnitude'], marker='.', lw=0.0)\n",
        "\n",
        "pl.plot(zs, effmag(zs, 0.0, 6.), c='k',   label='No Dark Energy', alpha=0.5)\n",
        "pl.plot(zs, effmag(zs, 0.5, 6.), c='k',   label='50% Dark Energy!')\n",
        "\n",
        "pl.xlabel('z')\n",
        "pl.ylabel('Effective magnitude')\n",
        "\n",
        "pl.legend(loc=4, frameon=False)"
      ]
    },
    {
      "cell_type": "markdown",
      "metadata": {
        "id": "ZSEQRSbkppJr"
      },
      "source": [
        "Can you now add our best fit result to the plot above?\n",
        "So there's something like 75% dark energy in the Universe!  As the first people to make this measurement, Saul, together with Brian Schmidt and Adam Reiss, would be awarded the 2011 Nobel Prize for their work."
      ]
    },
    {
      "cell_type": "markdown",
      "metadata": {
        "id": "C5LaY4GMppJs"
      },
      "source": [
        "![title](https://github.com/apalmese/desihigh/blob/main/desihigh/images/perlmutter_nobel.jpg?raw=1)"
      ]
    },
    {
      "cell_type": "markdown",
      "metadata": {
        "id": "AfKhL4drppJs"
      },
      "source": [
        "Photo credit: Lina Göransson, Nobel Prize Foundation (2011)"
      ]
    },
    {
      "cell_type": "markdown",
      "metadata": {
        "id": "lzmvyAfSppJs"
      },
      "source": [
        "You can find all the details of his work here:  https://arxiv.org/pdf/astro-ph/9812133.pdf. "
      ]
    },
    {
      "cell_type": "markdown",
      "metadata": {
        "id": "kTFvzrXkppJs"
      },
      "source": [
        "As honorary principal at DESI High, Saul has a special opening address to all the students and teachers, including you! "
      ]
    },
    {
      "cell_type": "markdown",
      "metadata": {
        "id": "sWvMQwBlppJt"
      },
      "source": [
        "[A welcome to DESI High, Prof. Saul Perlmutter](https://github.com/michaelJwilson/desihigh/blob/main/desihigh/perlmutter/letter.pdf)"
      ]
    },
    {
      "cell_type": "markdown",
      "metadata": {
        "id": "3iKxJ8-HppJt"
      },
      "source": [
        "The primary motivation for DESI is to repeat similar distant-redshift measurements much more precisely and learn much more about Dark Energy! "
      ]
    }
  ],
  "metadata": {
    "interpreter": {
      "hash": "05744e531a6b5accf174ab064947cca0fa700a25ff2828a9ac0fc01bbcf870af"
    },
    "kernelspec": {
      "display_name": "Python 3 (ipykernel)",
      "language": "python",
      "name": "python3"
    },
    "language_info": {
      "codemirror_mode": {
        "name": "ipython",
        "version": 3
      },
      "file_extension": ".py",
      "mimetype": "text/x-python",
      "name": "python",
      "nbconvert_exporter": "python",
      "pygments_lexer": "ipython3",
      "version": "3.7.11"
    },
    "latex_envs": {
      "LaTeX_envs_menu_present": true,
      "autoclose": false,
      "autocomplete": true,
      "bibliofile": "biblio.bib",
      "cite_by": "apalike",
      "current_citInitial": 1,
      "eqLabelWithNumbers": true,
      "eqNumInitial": 1,
      "hotkeys": {
        "equation": "Ctrl-E",
        "itemize": "Ctrl-I"
      },
      "labels_anchors": false,
      "latex_user_defs": false,
      "report_style_numbering": false,
      "user_envs_cfg": false
    },
    "nbTranslate": {
      "displayLangs": [
        "*"
      ],
      "hotkey": "alt-t",
      "langInMainMenu": true,
      "sourceLang": "en",
      "targetLang": "fr",
      "useGoogleTranslate": true
    },
    "colab": {
      "provenance": []
    }
  },
  "nbformat": 4,
  "nbformat_minor": 0
}
