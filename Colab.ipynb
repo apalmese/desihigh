{
 "cells": [
  {
   "cell_type": "markdown",
   "id": "79ddf98a",
   "metadata": {},
   "source": [
    "# Welcome to DESI High @ Google Colab!"
   ]
  },
  {
   "cell_type": "markdown",
   "id": "5c7d4a3d",
   "metadata": {},
   "source": [
    "![title](desihigh/images/colab.webp)"
   ]
  },
  {
   "cell_type": "code",
   "execution_count": 1,
   "id": "1a017f3b",
   "metadata": {},
   "outputs": [],
   "source": [
    "%load_ext autoreload\n",
    "%autoreload 2"
   ]
  },
  {
   "cell_type": "markdown",
   "id": "0f903986",
   "metadata": {},
   "source": [
    "An exciting adventure awaits you as you will soon have at your fingertips hot-off-the-telescope DESI data to run your own experiments. "
   ]
  },
  {
   "cell_type": "markdown",
   "id": "fe224eea",
   "metadata": {},
   "source": [
    "For you to create and save your own experiments, we'll run everything on Google Colab.  This will leave you with a copy of any additions on your Google Drive. "
   ]
  },
  {
   "cell_type": "markdown",
   "id": "0c38b0ba",
   "metadata": {},
   "source": [
    "First, we'll need the starter script:"
   ]
  },
  {
   "cell_type": "code",
   "execution_count": 1,
   "id": "269a5fae",
   "metadata": {},
   "outputs": [
    {
     "name": "stdout",
     "output_type": "stream",
     "text": [
      "--2022-02-11 22:23:24--  https://raw.githubusercontent.com/michaelJwilson/desihigh/main/setup_colab.py\n",
      "Resolving raw.githubusercontent.com... 2606:50c0:8000::154, 2606:50c0:8001::154, 2606:50c0:8002::154, ...\n",
      "Connecting to raw.githubusercontent.com|2606:50c0:8000::154|:443... connected.\n",
      "HTTP request sent, awaiting response... 200 OK\n",
      "Length: 1123 (1.1K) [text/plain]\n",
      "Saving to: 'setup_colab.py'\n",
      "\n",
      "setup_colab.py      100%[===================>]   1.10K  --.-KB/s    in 0s      \n",
      "\n",
      "2022-02-11 22:23:24 (51.0 MB/s) - 'setup_colab.py' saved [1123/1123]\n",
      "\n"
     ]
    }
   ],
   "source": [
    "! wget -O setup_colab.py https://raw.githubusercontent.com/michaelJwilson/desihigh/main/setup_colab.py"
   ]
  },
  {
   "cell_type": "markdown",
   "id": "0e65366d",
   "metadata": {},
   "source": [
    "So, without further ado, the magic incantation:"
   ]
  },
  {
   "cell_type": "code",
   "execution_count": null,
   "id": "2d9fe293",
   "metadata": {},
   "outputs": [],
   "source": [
    "import setup_colab"
   ]
  },
  {
   "cell_type": "markdown",
   "id": "44a7ba81",
   "metadata": {},
   "source": [
    "Congratulations, you've just loaded your first Python library!  And it's a useful one aswell."
   ]
  },
  {
   "cell_type": "markdown",
   "id": "b3a627e5",
   "metadata": {},
   "source": [
    "Now, we can get started with the real thing.  Buckle up!"
   ]
  },
  {
   "cell_type": "markdown",
   "id": "5f541ea9",
   "metadata": {},
   "source": [
    "[https://www.githubtocolab.com/michaelJwilson/desihigh](https://www.githubtocolab.com/michaelJwilson/desihigh)"
   ]
  }
 ],
 "metadata": {
  "kernelspec": {
   "display_name": "Python 3 (ipykernel)",
   "language": "python",
   "name": "python3"
  },
  "language_info": {
   "codemirror_mode": {
    "name": "ipython",
    "version": 3
   },
   "file_extension": ".py",
   "mimetype": "text/x-python",
   "name": "python",
   "nbconvert_exporter": "python",
   "pygments_lexer": "ipython3",
   "version": "3.7.11"
  }
 },
 "nbformat": 4,
 "nbformat_minor": 5
}
